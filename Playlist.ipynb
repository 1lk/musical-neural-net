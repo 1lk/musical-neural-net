{
 "cells": [
  {
   "cell_type": "code",
   "execution_count": 12,
   "metadata": {},
   "outputs": [],
   "source": [
    "from playlist import make_playlist\n",
    "from IPython.display import display,Audio,HTML"
   ]
  },
  {
   "cell_type": "code",
   "execution_count": 13,
   "metadata": {},
   "outputs": [],
   "source": [
    "music_dir = u'./data/output/notewise_generator_samples'"
   ]
  },
  {
   "cell_type": "code",
   "execution_count": 14,
   "metadata": {
    "scrolled": true
   },
   "outputs": [
    {
     "data": {
      "text/html": [
       "<audio id=\"audio\" preload=\"auto\" tabindex=\"0\" controls=\"\" type=\"audio/mpeg\">\n",
       "                    <source type=\"audio/mp3\" src=\"./data/output/notewise_generator_samples/0.wav\">Sorry, your browser does not support HTML5 audio.\n",
       "                    </audio>\n",
       "<ol id=\"playlist\">\n",
       "<li class=\"active\"><a href=\"./data/output/notewise_generator_samples/0.wav\">0.wav</a>\n",
       "                    </li>\n",
       "<li><a href=\"./data/output/notewise_generator_samples/1.wav\">1.wav</a></li>\n",
       "<li><a href=\"./data/output/notewise_generator_samples/10.wav\">10.wav</a></li>\n",
       "<li><a href=\"./data/output/notewise_generator_samples/11.wav\">11.wav</a></li>\n",
       "<li><a href=\"./data/output/notewise_generator_samples/12.wav\">12.wav</a></li>\n",
       "<li><a href=\"./data/output/notewise_generator_samples/13.wav\">13.wav</a></li>\n",
       "<li><a href=\"./data/output/notewise_generator_samples/2.wav\">2.wav</a></li>\n",
       "<li><a href=\"./data/output/notewise_generator_samples/3.wav\">3.wav</a></li>\n",
       "<li><a href=\"./data/output/notewise_generator_samples/4.wav\">4.wav</a></li>\n",
       "<li><a href=\"./data/output/notewise_generator_samples/5.wav\">5.wav</a></li>\n",
       "<li><a href=\"./data/output/notewise_generator_samples/6.wav\">6.wav</a></li>\n",
       "<li><a href=\"./data/output/notewise_generator_samples/7.wav\">7.wav</a></li>\n",
       "<li><a href=\"./data/output/notewise_generator_samples/8.wav\">8.wav</a></li>\n",
       "<li><a href=\"./data/output/notewise_generator_samples/9.wav\">9.wav</a></li>\n",
       "</ol>"
      ],
      "text/plain": [
       "<IPython.core.display.HTML object>"
      ]
     },
     "metadata": {},
     "output_type": "display_data"
    },
    {
     "data": {
      "text/html": [
       "\n",
       "    <style>\n",
       "    #playlist .active a{color:#CC0000;text-decoration:none;}\n",
       "    #playlist li a:hover{text-decoration:none;}\n",
       "    </style>\n",
       "    "
      ],
      "text/plain": [
       "<IPython.core.display.HTML object>"
      ]
     },
     "metadata": {},
     "output_type": "display_data"
    },
    {
     "data": {
      "text/html": [
       "\n",
       "    <script>\n",
       "    var audio;\n",
       "    var playlist;\n",
       "    var tracks;\n",
       "    var current;\n",
       "    \n",
       "    init();\n",
       "    function init(){\n",
       "        current = 0;\n",
       "        audio = $('audio');\n",
       "        playlist = $('#playlist');\n",
       "        tracks = playlist.find('li a');\n",
       "        len = tracks.length - 1;\n",
       "        audio[0].volume = .90;\n",
       "        playlist.find('a').click(function(e){\n",
       "            e.preventDefault();\n",
       "            link = $(this);\n",
       "            current = link.parent().index();\n",
       "                    run(link, audio[0]);\n",
       "        });\n",
       "        audio[0].addEventListener('ended',function(e){\n",
       "            current++;\n",
       "            if(current == len){\n",
       "                current = 0;\n",
       "                link = playlist.find('a')[0];\n",
       "            }else{\n",
       "                link = playlist.find('a')[current];    \n",
       "            }\n",
       "            run($(link),audio[0]);\n",
       "        });\n",
       "    }\n",
       "    function run(link, player){\n",
       "            player.src = link.attr('href');\n",
       "            par = link.parent();\n",
       "            par.addClass('active').siblings().removeClass('active');\n",
       "            audio[0].load();\n",
       "            audio[0].play();\n",
       "    }\n",
       "    </script>\n",
       "    "
      ],
      "text/plain": [
       "<IPython.core.display.HTML object>"
      ]
     },
     "metadata": {},
     "output_type": "display_data"
    }
   ],
   "source": [
    "playlist_html, playlist_css, playlist_js=make_playlist(music_dir)\n",
    "display(HTML(playlist_html))\n",
    "display(HTML(playlist_css))\n",
    "display(HTML(playlist_js))"
   ]
  },
  {
   "cell_type": "code",
   "execution_count": null,
   "metadata": {},
   "outputs": [],
   "source": []
  }
 ],
 "metadata": {
  "kernelspec": {
   "display_name": "Python 3",
   "language": "python",
   "name": "python3"
  },
  "language_info": {
   "codemirror_mode": {
    "name": "ipython",
    "version": 3
   },
   "file_extension": ".py",
   "mimetype": "text/x-python",
   "name": "python",
   "nbconvert_exporter": "python",
   "pygments_lexer": "ipython3",
   "version": "3.6.4"
  }
 },
 "nbformat": 4,
 "nbformat_minor": 2
}
